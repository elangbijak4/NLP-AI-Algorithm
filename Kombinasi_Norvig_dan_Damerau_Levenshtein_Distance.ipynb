{
  "nbformat": 4,
  "nbformat_minor": 0,
  "metadata": {
    "colab": {
      "provenance": [],
      "authorship_tag": "ABX9TyN2StW25H5p292DCApxDuUv",
      "include_colab_link": true
    },
    "kernelspec": {
      "name": "python3",
      "display_name": "Python 3"
    },
    "language_info": {
      "name": "python"
    }
  },
  "cells": [
    {
      "cell_type": "markdown",
      "metadata": {
        "id": "view-in-github",
        "colab_type": "text"
      },
      "source": [
        "<a href=\"https://colab.research.google.com/github/elangbijak4/NLP-AI-Algorithm/blob/main/Kombinasi_Norvig_dan_Damerau_Levenshtein_Distance.ipynb\" target=\"_parent\"><img src=\"https://colab.research.google.com/assets/colab-badge.svg\" alt=\"Open In Colab\"/></a>"
      ]
    },
    {
      "cell_type": "code",
      "source": [
        "import re\n",
        "from collections import Counter"
      ],
      "metadata": {
        "id": "R6ZwvfHXHAhk"
      },
      "execution_count": 3,
      "outputs": []
    },
    {
      "cell_type": "code",
      "source": [
        "# Contoh korpus sederhana dalam bahasa Indonesia\n",
        "korpus = \"\"\"\n",
        "anak api buku bawa cantik dan dari dia dengan gajah gunung hutan ibu ingin itu jalan\n",
        "jauh karena kerja kembali laut makan minum naik panas rumah sangat suka sudah tidak\n",
        "\"\"\"\n",
        "\n",
        "# Fungsi untuk membaca korpus kata dari string teks bahasa Indonesia\n",
        "def words(text):\n",
        "    return re.findall(r'\\w+', text.lower())\n",
        "\n",
        "# Fungsi untuk membuat model probabilitas dari korpus kata\n",
        "def train(words):\n",
        "    model = Counter(words)\n",
        "    return model\n",
        "\n",
        "# Membuat model probabilitas dari korpus kata\n",
        "NWORDS = train(words(korpus))\n",
        "\n",
        "# Karakter alfabet untuk bahasa Indonesia\n",
        "alphabet = 'abcdefghijklmnopqrstuvwxyz'\n",
        "\n",
        "# Fungsi untuk menghasilkan semua kemungkinan kata yang dihasilkan dari satu operasi pengeditan\n",
        "def edits1(word):\n",
        "    splits = [(word[:i], word[i:]) for i in range(len(word) + 1)]\n",
        "    deletes = [L + R[1:] for L, R in splits if R]\n",
        "    transposes = [L + R[1] + R[0] + R[2:] for L, R in splits if len(R) > 1]\n",
        "    replaces = [L + c + R[1:] for L, R in splits if R for c in alphabet]\n",
        "    inserts = [L + c + R for L, R in splits for c in alphabet]\n",
        "    return set(deletes + transposes + replaces + inserts)\n",
        "\n",
        "# Fungsi untuk menghasilkan semua kemungkinan kata yang dihasilkan dari dua operasi pengeditan\n",
        "def edits2(word):\n",
        "    return set(e2 for e1 in edits1(word) for e2 in edits1(e1))\n",
        "\n",
        "# Fungsi untuk mengembalikan kata yang ada dalam model\n",
        "def known(words):\n",
        "    return set(w for w in words if w in NWORDS)\n",
        "\n",
        "# Fungsi untuk memperbaiki ejaan dengan menggunakan Norvig dan Damerau-Levenshtein Distance\n",
        "def correct_with_norvig_and_damerau_levenshtein(word):\n",
        "    candidates = (known([word]) or known(edits1(word)) or known(edits2(word)) or [word])\n",
        "    return min(candidates, key=lambda x: damerau_levenshtein_distance(word, x))\n",
        "\n",
        "# Fungsi untuk menghitung Damerau-Levenshtein Distance\n",
        "def damerau_levenshtein_distance(s1, s2):\n",
        "    m = len(s1)\n",
        "    n = len(s2)\n",
        "\n",
        "    # Inisialisasi matriks DP dengan ukuran (m+1) x (n+1)\n",
        "    dp = [[0] * (n + 1) for _ in range(m + 1)]\n",
        "\n",
        "    # Inisialisasi kolom pertama\n",
        "    for i in range(1, m + 1):\n",
        "        dp[i][0] = i\n",
        "\n",
        "    # Inisialisasi baris pertama\n",
        "    for j in range(1, n + 1):\n",
        "        dp[0][j] = j\n",
        "\n",
        "    # Mengisi matriks DP\n",
        "    for i in range(1, m + 1):\n",
        "        for j in range(1, n + 1):\n",
        "            if s1[i - 1] == s2[j - 1]:\n",
        "                dp[i][j] = dp[i - 1][j - 1]\n",
        "            else:\n",
        "                dp[i][j] = 1 + min(dp[i - 1][j],      # Hapus karakter dari s1\n",
        "                                  dp[i][j - 1],      # Sisipkan karakter ke s1\n",
        "                                  dp[i - 1][j - 1])  # Ganti karakter di s1\n",
        "\n",
        "            # Menambahkan operasi transposisi\n",
        "            if i > 1 and j > 1 and s1[i - 1] == s2[j - 2] and s1[i - 2] == s2[j - 1]:\n",
        "                dp[i][j] = min(dp[i][j], dp[i - 2][j - 2] + 1)  # Transposisi\n",
        "\n",
        "    return dp[m][n]\n",
        "\n",
        "# Contoh penggunaan\n",
        "word = \"bukuui\"\n",
        "correction = correct_with_norvig_and_damerau_levenshtein(word)\n",
        "print(f\"Kata asli: {word}\")\n",
        "print(f\"Koreksi: {correction}\")"
      ],
      "metadata": {
        "colab": {
          "base_uri": "https://localhost:8080/"
        },
        "id": "8fH_9-XMGCR3",
        "outputId": "758ecb98-3612-410b-bdde-720f866d5c62"
      },
      "execution_count": 7,
      "outputs": [
        {
          "output_type": "stream",
          "name": "stdout",
          "text": [
            "Kata asli: bukuui\n",
            "Koreksi: buku\n"
          ]
        }
      ]
    }
  ]
}