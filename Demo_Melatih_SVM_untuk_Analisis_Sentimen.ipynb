{
  "nbformat": 4,
  "nbformat_minor": 0,
  "metadata": {
    "colab": {
      "provenance": [],
      "authorship_tag": "ABX9TyOgpPgFunRrfWwjbevGoClr",
      "include_colab_link": true
    },
    "kernelspec": {
      "name": "python3",
      "display_name": "Python 3"
    },
    "language_info": {
      "name": "python"
    }
  },
  "cells": [
    {
      "cell_type": "markdown",
      "metadata": {
        "id": "view-in-github",
        "colab_type": "text"
      },
      "source": [
        "<a href=\"https://colab.research.google.com/github/elangbijak4/NLP-AI-Algorithm/blob/main/Demo_Melatih_SVM_untuk_Analisis_Sentimen.ipynb\" target=\"_parent\"><img src=\"https://colab.research.google.com/assets/colab-badge.svg\" alt=\"Open In Colab\"/></a>"
      ]
    },
    {
      "cell_type": "code",
      "execution_count": 1,
      "metadata": {
        "colab": {
          "base_uri": "https://localhost:8080/"
        },
        "id": "-QcRC_sWTWlz",
        "outputId": "7c150f21-4c6d-4623-affb-2906fbfcc85d"
      },
      "outputs": [
        {
          "output_type": "stream",
          "name": "stdout",
          "text": [
            "Requirement already satisfied: scikit-learn in /usr/local/lib/python3.10/dist-packages (1.2.2)\n",
            "Requirement already satisfied: beautifulsoup4 in /usr/local/lib/python3.10/dist-packages (4.12.3)\n",
            "Requirement already satisfied: requests in /usr/local/lib/python3.10/dist-packages (2.31.0)\n",
            "Requirement already satisfied: numpy>=1.17.3 in /usr/local/lib/python3.10/dist-packages (from scikit-learn) (1.25.2)\n",
            "Requirement already satisfied: scipy>=1.3.2 in /usr/local/lib/python3.10/dist-packages (from scikit-learn) (1.11.4)\n",
            "Requirement already satisfied: joblib>=1.1.1 in /usr/local/lib/python3.10/dist-packages (from scikit-learn) (1.4.2)\n",
            "Requirement already satisfied: threadpoolctl>=2.0.0 in /usr/local/lib/python3.10/dist-packages (from scikit-learn) (3.5.0)\n",
            "Requirement already satisfied: soupsieve>1.2 in /usr/local/lib/python3.10/dist-packages (from beautifulsoup4) (2.5)\n",
            "Requirement already satisfied: charset-normalizer<4,>=2 in /usr/local/lib/python3.10/dist-packages (from requests) (3.3.2)\n",
            "Requirement already satisfied: idna<4,>=2.5 in /usr/local/lib/python3.10/dist-packages (from requests) (3.7)\n",
            "Requirement already satisfied: urllib3<3,>=1.21.1 in /usr/local/lib/python3.10/dist-packages (from requests) (2.0.7)\n",
            "Requirement already satisfied: certifi>=2017.4.17 in /usr/local/lib/python3.10/dist-packages (from requests) (2024.6.2)\n"
          ]
        }
      ],
      "source": [
        "!pip install scikit-learn beautifulsoup4 requests"
      ]
    },
    {
      "cell_type": "code",
      "source": [
        "import requests\n",
        "from bs4 import BeautifulSoup\n",
        "import re\n",
        "from sklearn.feature_extraction.text import CountVectorizer\n",
        "from sklearn.model_selection import train_test_split\n",
        "from sklearn.svm import SVC\n",
        "from sklearn.metrics import classification_report, accuracy_score\n",
        "from sklearn.preprocessing import LabelEncoder\n",
        "from sklearn.pipeline import make_pipeline\n",
        "from sklearn.base import BaseEstimator, TransformerMixin\n",
        "from sklearn.model_selection import GridSearchCV\n",
        "from sklearn.feature_extraction.text import TfidfVectorizer\n",
        "from sklearn.pipeline import Pipeline\n",
        "from sklearn.feature_extraction.text import TfidfTransformer"
      ],
      "metadata": {
        "id": "KVjgU9wgTghO"
      },
      "execution_count": 2,
      "outputs": []
    },
    {
      "cell_type": "code",
      "source": [
        "# Fungsi untuk melakukan web scraping dan mengambil teks dari halaman web\n",
        "def scrape_website(url):\n",
        "    response = requests.get(url)\n",
        "    soup = BeautifulSoup(response.content, 'html.parser')\n",
        "    # Misalkan kita mengambil beberapa paragraf dari tag <p> di halaman web\n",
        "    paragraphs = soup.find_all('p')[:5]  # Ambil lima paragraf pertama sebagai contoh\n",
        "    text = ' '.join([p.get_text() for p in paragraphs])\n",
        "    return text\n",
        "\n",
        "# Fungsi untuk membersihkan teks\n",
        "def clean_text(text):\n",
        "    # Hapus karakter non-alfanumerik\n",
        "    text = re.sub(r'\\W', ' ', text)\n",
        "    # Hapus karakter tunggal\n",
        "    text = re.sub(r'\\s+[a-zA-Z]\\s+', ' ', text)\n",
        "    # Hapus beberapa spasi\n",
        "    text = re.sub(r'\\s+', ' ', text, flags=re.I)\n",
        "    # Ubah teks menjadi huruf kecil\n",
        "    text = text.lower()\n",
        "    return text\n",
        "\n",
        "# URL untuk di-scrapping\n",
        "url = 'https://kompas.com'\n",
        "text = scrape_website(url)\n",
        "cleaned_text = clean_text(text)\n",
        "\n",
        "# Contoh dataset hasil web scraping (misalnya review)\n",
        "corpus = [\n",
        "    {'text': cleaned_text, 'sentiment': 'positive'},\n",
        "    # Tambahkan lebih banyak data dari hasil scraping jika diperlukan\n",
        "]\n",
        "\n",
        "# Menambahkan lebih banyak sampel teks ke corpus (misalnya 100 sampel)\n",
        "for i in range(1, 101):\n",
        "    # Variasikan sentiment untuk beberapa sampel\n",
        "    sentiment = 'positive' if i % 2 == 0 else 'negative'\n",
        "    corpus.append({'text': f'Example text {i}', 'sentiment': sentiment})  # Ganti dengan teks dari hasil scraping"
      ],
      "metadata": {
        "id": "hRS0dySpTcYW"
      },
      "execution_count": 11,
      "outputs": []
    },
    {
      "cell_type": "code",
      "source": [
        "corpus"
      ],
      "metadata": {
        "colab": {
          "base_uri": "https://localhost:8080/"
        },
        "id": "Du-FV1sGTr2b",
        "outputId": "0dc628f5-d0e6-441e-ed2f-49e7326f6c10"
      },
      "execution_count": 12,
      "outputs": [
        {
          "output_type": "execute_result",
          "data": {
            "text/plain": [
              "[{'text': 'news 2 menit lalu edukasi 4 menit lalu regional 6 menit lalu regional 6 menit lalu money 7 menit lalu',\n",
              "  'sentiment': 'positive'},\n",
              " {'text': 'Example text 1', 'sentiment': 'negative'},\n",
              " {'text': 'Example text 2', 'sentiment': 'positive'},\n",
              " {'text': 'Example text 3', 'sentiment': 'negative'},\n",
              " {'text': 'Example text 4', 'sentiment': 'positive'},\n",
              " {'text': 'Example text 5', 'sentiment': 'negative'},\n",
              " {'text': 'Example text 6', 'sentiment': 'positive'},\n",
              " {'text': 'Example text 7', 'sentiment': 'negative'},\n",
              " {'text': 'Example text 8', 'sentiment': 'positive'},\n",
              " {'text': 'Example text 9', 'sentiment': 'negative'},\n",
              " {'text': 'Example text 10', 'sentiment': 'positive'},\n",
              " {'text': 'Example text 11', 'sentiment': 'negative'},\n",
              " {'text': 'Example text 12', 'sentiment': 'positive'},\n",
              " {'text': 'Example text 13', 'sentiment': 'negative'},\n",
              " {'text': 'Example text 14', 'sentiment': 'positive'},\n",
              " {'text': 'Example text 15', 'sentiment': 'negative'},\n",
              " {'text': 'Example text 16', 'sentiment': 'positive'},\n",
              " {'text': 'Example text 17', 'sentiment': 'negative'},\n",
              " {'text': 'Example text 18', 'sentiment': 'positive'},\n",
              " {'text': 'Example text 19', 'sentiment': 'negative'},\n",
              " {'text': 'Example text 20', 'sentiment': 'positive'},\n",
              " {'text': 'Example text 21', 'sentiment': 'negative'},\n",
              " {'text': 'Example text 22', 'sentiment': 'positive'},\n",
              " {'text': 'Example text 23', 'sentiment': 'negative'},\n",
              " {'text': 'Example text 24', 'sentiment': 'positive'},\n",
              " {'text': 'Example text 25', 'sentiment': 'negative'},\n",
              " {'text': 'Example text 26', 'sentiment': 'positive'},\n",
              " {'text': 'Example text 27', 'sentiment': 'negative'},\n",
              " {'text': 'Example text 28', 'sentiment': 'positive'},\n",
              " {'text': 'Example text 29', 'sentiment': 'negative'},\n",
              " {'text': 'Example text 30', 'sentiment': 'positive'},\n",
              " {'text': 'Example text 31', 'sentiment': 'negative'},\n",
              " {'text': 'Example text 32', 'sentiment': 'positive'},\n",
              " {'text': 'Example text 33', 'sentiment': 'negative'},\n",
              " {'text': 'Example text 34', 'sentiment': 'positive'},\n",
              " {'text': 'Example text 35', 'sentiment': 'negative'},\n",
              " {'text': 'Example text 36', 'sentiment': 'positive'},\n",
              " {'text': 'Example text 37', 'sentiment': 'negative'},\n",
              " {'text': 'Example text 38', 'sentiment': 'positive'},\n",
              " {'text': 'Example text 39', 'sentiment': 'negative'},\n",
              " {'text': 'Example text 40', 'sentiment': 'positive'},\n",
              " {'text': 'Example text 41', 'sentiment': 'negative'},\n",
              " {'text': 'Example text 42', 'sentiment': 'positive'},\n",
              " {'text': 'Example text 43', 'sentiment': 'negative'},\n",
              " {'text': 'Example text 44', 'sentiment': 'positive'},\n",
              " {'text': 'Example text 45', 'sentiment': 'negative'},\n",
              " {'text': 'Example text 46', 'sentiment': 'positive'},\n",
              " {'text': 'Example text 47', 'sentiment': 'negative'},\n",
              " {'text': 'Example text 48', 'sentiment': 'positive'},\n",
              " {'text': 'Example text 49', 'sentiment': 'negative'},\n",
              " {'text': 'Example text 50', 'sentiment': 'positive'},\n",
              " {'text': 'Example text 51', 'sentiment': 'negative'},\n",
              " {'text': 'Example text 52', 'sentiment': 'positive'},\n",
              " {'text': 'Example text 53', 'sentiment': 'negative'},\n",
              " {'text': 'Example text 54', 'sentiment': 'positive'},\n",
              " {'text': 'Example text 55', 'sentiment': 'negative'},\n",
              " {'text': 'Example text 56', 'sentiment': 'positive'},\n",
              " {'text': 'Example text 57', 'sentiment': 'negative'},\n",
              " {'text': 'Example text 58', 'sentiment': 'positive'},\n",
              " {'text': 'Example text 59', 'sentiment': 'negative'},\n",
              " {'text': 'Example text 60', 'sentiment': 'positive'},\n",
              " {'text': 'Example text 61', 'sentiment': 'negative'},\n",
              " {'text': 'Example text 62', 'sentiment': 'positive'},\n",
              " {'text': 'Example text 63', 'sentiment': 'negative'},\n",
              " {'text': 'Example text 64', 'sentiment': 'positive'},\n",
              " {'text': 'Example text 65', 'sentiment': 'negative'},\n",
              " {'text': 'Example text 66', 'sentiment': 'positive'},\n",
              " {'text': 'Example text 67', 'sentiment': 'negative'},\n",
              " {'text': 'Example text 68', 'sentiment': 'positive'},\n",
              " {'text': 'Example text 69', 'sentiment': 'negative'},\n",
              " {'text': 'Example text 70', 'sentiment': 'positive'},\n",
              " {'text': 'Example text 71', 'sentiment': 'negative'},\n",
              " {'text': 'Example text 72', 'sentiment': 'positive'},\n",
              " {'text': 'Example text 73', 'sentiment': 'negative'},\n",
              " {'text': 'Example text 74', 'sentiment': 'positive'},\n",
              " {'text': 'Example text 75', 'sentiment': 'negative'},\n",
              " {'text': 'Example text 76', 'sentiment': 'positive'},\n",
              " {'text': 'Example text 77', 'sentiment': 'negative'},\n",
              " {'text': 'Example text 78', 'sentiment': 'positive'},\n",
              " {'text': 'Example text 79', 'sentiment': 'negative'},\n",
              " {'text': 'Example text 80', 'sentiment': 'positive'},\n",
              " {'text': 'Example text 81', 'sentiment': 'negative'},\n",
              " {'text': 'Example text 82', 'sentiment': 'positive'},\n",
              " {'text': 'Example text 83', 'sentiment': 'negative'},\n",
              " {'text': 'Example text 84', 'sentiment': 'positive'},\n",
              " {'text': 'Example text 85', 'sentiment': 'negative'},\n",
              " {'text': 'Example text 86', 'sentiment': 'positive'},\n",
              " {'text': 'Example text 87', 'sentiment': 'negative'},\n",
              " {'text': 'Example text 88', 'sentiment': 'positive'},\n",
              " {'text': 'Example text 89', 'sentiment': 'negative'},\n",
              " {'text': 'Example text 90', 'sentiment': 'positive'},\n",
              " {'text': 'Example text 91', 'sentiment': 'negative'},\n",
              " {'text': 'Example text 92', 'sentiment': 'positive'},\n",
              " {'text': 'Example text 93', 'sentiment': 'negative'},\n",
              " {'text': 'Example text 94', 'sentiment': 'positive'},\n",
              " {'text': 'Example text 95', 'sentiment': 'negative'},\n",
              " {'text': 'Example text 96', 'sentiment': 'positive'},\n",
              " {'text': 'Example text 97', 'sentiment': 'negative'},\n",
              " {'text': 'Example text 98', 'sentiment': 'positive'},\n",
              " {'text': 'Example text 99', 'sentiment': 'negative'},\n",
              " {'text': 'Example text 100', 'sentiment': 'positive'}]"
            ]
          },
          "metadata": {},
          "execution_count": 12
        }
      ]
    },
    {
      "source": [
        "# Konversi dataset menjadi DataFrame atau gunakan secara langsung tergantung pada struktur data\n",
        "\n",
        "# Proses dataset untuk SVM\n",
        "X = [entry['text'] for entry in corpus]\n",
        "y = [entry['sentiment'] for entry in corpus]\n",
        "\n",
        "# Label Encoding untuk sentimen\n",
        "le = LabelEncoder()\n",
        "y = le.fit_transform(y)\n",
        "\n",
        "# Check if you have enough samples before splitting\n",
        "if len(X) > 1:\n",
        "    # Pembagian dataset menjadi data latih dan data uji\n",
        "    X_train, X_test, y_train, y_test = train_test_split(X, y, test_size=0.2, random_state=42)\n",
        "\n",
        "    # Pipeline untuk SVM dengan TF-IDF sebagai ekstraksi fitur\n",
        "    pipeline = Pipeline([\n",
        "        ('vect', CountVectorizer()),\n",
        "        ('tfidf', TfidfTransformer()),\n",
        "        ('clf', SVC(kernel='linear')),\n",
        "    ])\n",
        "\n",
        "    # Grid search untuk optimisasi hiperparameter\n",
        "    parameters = {\n",
        "        'vect__ngram_range': [(1, 1), (1, 2)],\n",
        "        'tfidf__use_idf': (True, False),\n",
        "        'clf__C': [0.1, 1, 10],\n",
        "    }\n",
        "\n",
        "    grid_search = GridSearchCV(pipeline, parameters, n_jobs=-1, verbose=1)\n",
        "    grid_search.fit(X_train, y_train)\n",
        "\n",
        "    # Prediksi dengan model terbaik\n",
        "    best_model = grid_search.best_estimator_\n",
        "    y_pred = best_model.predict(X_test)\n",
        "\n",
        "    # Evaluasi model\n",
        "    print(\"Accuracy:\", accuracy_score(y_test, y_pred))\n",
        "    print(classification_report(y_test, y_pred, target_names=le.classes_))\n",
        "else:\n",
        "    print(\"Dataset does not have enough samples to split. Add more data.\")\n",
        "    # Collect more data for your corpus here"
      ],
      "cell_type": "code",
      "metadata": {
        "colab": {
          "base_uri": "https://localhost:8080/"
        },
        "id": "eq61adYsWQ23",
        "outputId": "86aa7594-0fc8-4348-875c-4a798cd57091"
      },
      "execution_count": 13,
      "outputs": [
        {
          "output_type": "stream",
          "name": "stdout",
          "text": [
            "Fitting 5 folds for each of 12 candidates, totalling 60 fits\n",
            "Accuracy: 0.42857142857142855\n",
            "              precision    recall  f1-score   support\n",
            "\n",
            "    negative       0.43      1.00      0.60         9\n",
            "    positive       0.00      0.00      0.00        12\n",
            "\n",
            "    accuracy                           0.43        21\n",
            "   macro avg       0.21      0.50      0.30        21\n",
            "weighted avg       0.18      0.43      0.26        21\n",
            "\n"
          ]
        },
        {
          "output_type": "stream",
          "name": "stderr",
          "text": [
            "/usr/local/lib/python3.10/dist-packages/sklearn/metrics/_classification.py:1344: UndefinedMetricWarning: Precision and F-score are ill-defined and being set to 0.0 in labels with no predicted samples. Use `zero_division` parameter to control this behavior.\n",
            "  _warn_prf(average, modifier, msg_start, len(result))\n",
            "/usr/local/lib/python3.10/dist-packages/sklearn/metrics/_classification.py:1344: UndefinedMetricWarning: Precision and F-score are ill-defined and being set to 0.0 in labels with no predicted samples. Use `zero_division` parameter to control this behavior.\n",
            "  _warn_prf(average, modifier, msg_start, len(result))\n",
            "/usr/local/lib/python3.10/dist-packages/sklearn/metrics/_classification.py:1344: UndefinedMetricWarning: Precision and F-score are ill-defined and being set to 0.0 in labels with no predicted samples. Use `zero_division` parameter to control this behavior.\n",
            "  _warn_prf(average, modifier, msg_start, len(result))\n"
          ]
        }
      ]
    }
  ]
}