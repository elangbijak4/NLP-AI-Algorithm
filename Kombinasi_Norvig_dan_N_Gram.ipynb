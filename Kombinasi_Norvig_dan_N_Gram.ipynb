{
  "nbformat": 4,
  "nbformat_minor": 0,
  "metadata": {
    "colab": {
      "provenance": [],
      "authorship_tag": "ABX9TyNVOVIXJ4nyGaEfBssh57fi",
      "include_colab_link": true
    },
    "kernelspec": {
      "name": "python3",
      "display_name": "Python 3"
    },
    "language_info": {
      "name": "python"
    }
  },
  "cells": [
    {
      "cell_type": "markdown",
      "metadata": {
        "id": "view-in-github",
        "colab_type": "text"
      },
      "source": [
        "<a href=\"https://colab.research.google.com/github/elangbijak4/NLP-AI-Algorithm/blob/main/Kombinasi_Norvig_dan_N_Gram.ipynb\" target=\"_parent\"><img src=\"https://colab.research.google.com/assets/colab-badge.svg\" alt=\"Open In Colab\"/></a>"
      ]
    },
    {
      "cell_type": "code",
      "source": [
        "import re\n",
        "from collections import Counter, defaultdict"
      ],
      "metadata": {
        "id": "R6ZwvfHXHAhk"
      },
      "execution_count": 8,
      "outputs": []
    },
    {
      "cell_type": "code",
      "source": [
        "# Contoh korpus sederhana dalam bahasa Indonesia\n",
        "korpus = \"\"\"\n",
        "anak api buku bawa cantik dan dari dia dengan gajah gunung hutan ibu ingin itu jalan\n",
        "jauh karena kerja kembali laut makan minum naik panas rumah sangat suka sudah tidak\n",
        "\"\"\"\n",
        "\n",
        "# Fungsi untuk membaca korpus kata dari string teks bahasa Indonesia\n",
        "def words(text):\n",
        "    return re.findall(r'\\w+', text.lower())\n",
        "\n",
        "# Fungsi untuk membuat model probabilitas dari korpus kata\n",
        "def train(words):\n",
        "    model = Counter(words)\n",
        "    return model\n",
        "\n",
        "# Membuat model probabilitas dari korpus kata\n",
        "NWORDS = train(words(korpus))\n",
        "\n",
        "# Karakter alfabet untuk bahasa Indonesia\n",
        "alphabet = 'abcdefghijklmnopqrstuvwxyz'\n",
        "\n",
        "# Fungsi untuk menghasilkan semua kemungkinan kata yang dihasilkan dari satu operasi pengeditan\n",
        "def edits1(word):\n",
        "    splits = [(word[:i], word[i:]) for i in range(len(word) + 1)]\n",
        "    deletes = [L + R[1:] for L, R in splits if R]\n",
        "    transposes = [L + R[1] + R[0] + R[2:] for L, R in splits if len(R) > 1]\n",
        "    replaces = [L + c + R[1:] for L, R in splits if R for c in alphabet]\n",
        "    inserts = [L + c + R for L, R in splits for c in alphabet]\n",
        "    return set(deletes + transposes + replaces + inserts)\n",
        "\n",
        "# Fungsi untuk menghasilkan semua kemungkinan kata yang dihasilkan dari dua operasi pengeditan\n",
        "def edits2(word):\n",
        "    return set(e2 for e1 in edits1(word) for e2 in edits1(e1))\n",
        "\n",
        "# Fungsi untuk menghasilkan semua kata yang diketahui (ada di dalam kamus)\n",
        "def known(words):\n",
        "    return set(w for w in words if w in NWORDS)\n",
        "\n",
        "# Fungsi untuk memperbaiki kata yang salah eja menggunakan algoritma Norvig\n",
        "def correct_with_norvig(word):\n",
        "    candidates = (known([word]) or known(edits1(word)) or known(edits2(word)) or [word])\n",
        "    return max(candidates, key=NWORDS.get)\n",
        "\n",
        "# Fungsi untuk membangun model bigram dari korpus\n",
        "def build_bigram_model(corpus):\n",
        "    words = corpus.split()\n",
        "    bigrams = [(words[i], words[i+1]) for i in range(len(words)-1)]\n",
        "    model = defaultdict(Counter)\n",
        "    for w1, w2 in bigrams:\n",
        "        model[w1][w2] += 1\n",
        "    return model\n",
        "\n",
        "# Membangun model bigram\n",
        "bigram_model = build_bigram_model(korpus)\n",
        "\n",
        "# Fungsi untuk memperbaiki ejaan berdasarkan model bigram\n",
        "def correct_with_bigram(word, model):\n",
        "    if word in model:\n",
        "        return max(model[word], key=model[word].get)\n",
        "    else:\n",
        "        return word  # Jika kata tidak ditemukan, kembalikan kata asli\n",
        "\n",
        "# Fungsi untuk memperbaiki ejaan dengan menggunakan kombinasi Norvig dan N-Gram\n",
        "def correct_with_norvig_and_bigram(word):\n",
        "    norvig_correction = correct_with_norvig(word)\n",
        "    bigram_correction = correct_with_bigram(norvig_correction, bigram_model)\n",
        "    return bigram_correction\n",
        "\n",
        "# Contoh penggunaan\n",
        "print(correct_with_norvig_and_bigram(\"anak\"))\n",
        "print(correct_with_norvig_and_bigram(\"ape\"))\n",
        "print(correct_with_norvig_and_bigram(\"bukuu\"))\n",
        "print(correct_with_norvig_and_bigram(\"cantik\"))"
      ],
      "metadata": {
        "colab": {
          "base_uri": "https://localhost:8080/"
        },
        "id": "8fH_9-XMGCR3",
        "outputId": "d10eddd2-eb2a-43bf-a223-39d30468f368"
      },
      "execution_count": 9,
      "outputs": [
        {
          "output_type": "stream",
          "name": "stdout",
          "text": [
            "api\n",
            "buku\n",
            "bawa\n",
            "dan\n"
          ]
        }
      ]
    }
  ]
}