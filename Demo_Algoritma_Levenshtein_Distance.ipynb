{
  "nbformat": 4,
  "nbformat_minor": 0,
  "metadata": {
    "colab": {
      "provenance": [],
      "authorship_tag": "ABX9TyNYCBhTf9FSgjSO9QAW4kdj",
      "include_colab_link": true
    },
    "kernelspec": {
      "name": "python3",
      "display_name": "Python 3"
    },
    "language_info": {
      "name": "python"
    }
  },
  "cells": [
    {
      "cell_type": "markdown",
      "metadata": {
        "id": "view-in-github",
        "colab_type": "text"
      },
      "source": [
        "<a href=\"https://colab.research.google.com/github/elangbijak4/NLP-AI-Algorithm/blob/main/Demo_Algoritma_Levenshtein_Distance.ipynb\" target=\"_parent\"><img src=\"https://colab.research.google.com/assets/colab-badge.svg\" alt=\"Open In Colab\"/></a>"
      ]
    },
    {
      "cell_type": "code",
      "source": [
        "def levenshtein_distance(s1, s2):\n",
        "    m = len(s1)\n",
        "    n = len(s2)\n",
        "\n",
        "    # Inisialisasi matriks DP dengan ukuran (m+1) x (n+1)\n",
        "    dp = [[0] * (n + 1) for _ in range(m + 1)]\n",
        "\n",
        "    # Inisialisasi kolom pertama (hapus semua karakter s1)\n",
        "    for i in range(1, m + 1):\n",
        "        dp[i][0] = i\n",
        "\n",
        "    # Inisialisasi baris pertama (sisipkan semua karakter s2)\n",
        "    for j in range(1, n + 1):\n",
        "        dp[0][j] = j\n",
        "\n",
        "    # Mengisi matriks DP berdasarkan kasus\n",
        "    for i in range(1, m + 1):\n",
        "        for j in range(1, n + 1):\n",
        "            if s1[i - 1] == s2[j - 1]:\n",
        "                dp[i][j] = dp[i - 1][j - 1]  # Karakter sama, tidak ada operasi diperlukan\n",
        "            else:\n",
        "                dp[i][j] = 1 + min(dp[i - 1][j],      # Hapus karakter dari s1\n",
        "                                   dp[i][j - 1],      # Sisipkan karakter ke s1\n",
        "                                   dp[i - 1][j - 1])  # Ganti karakter di s1\n",
        "\n",
        "    return dp[m][n]\n",
        "\n",
        "# Contoh penggunaan\n",
        "print(levenshtein_distance(\"kuda\", \"kudi\"))  # Output: 1\n",
        "print(levenshtein_distance(\"sate\", \"date\"))  # Output: 2\n",
        "print(levenshtein_distance(\"cat\", \"car\"))    # Output: 1\n",
        "print(levenshtein_distance(\"sitting\", \"kitten\"))  # Output: 3"
      ],
      "metadata": {
        "colab": {
          "base_uri": "https://localhost:8080/"
        },
        "id": "8fH_9-XMGCR3",
        "outputId": "9a7cbebb-43c9-40bd-9b0b-0e2c2851702b"
      },
      "execution_count": 3,
      "outputs": [
        {
          "output_type": "stream",
          "name": "stdout",
          "text": [
            "1\n",
            "1\n",
            "1\n",
            "3\n"
          ]
        }
      ]
    }
  ]
}