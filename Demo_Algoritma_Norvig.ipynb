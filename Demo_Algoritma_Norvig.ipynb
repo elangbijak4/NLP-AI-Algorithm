{
  "nbformat": 4,
  "nbformat_minor": 0,
  "metadata": {
    "colab": {
      "provenance": [],
      "authorship_tag": "ABX9TyPQpA/52ddlMPsHLC9suDIz",
      "include_colab_link": true
    },
    "kernelspec": {
      "name": "python3",
      "display_name": "Python 3"
    },
    "language_info": {
      "name": "python"
    }
  },
  "cells": [
    {
      "cell_type": "markdown",
      "metadata": {
        "id": "view-in-github",
        "colab_type": "text"
      },
      "source": [
        "<a href=\"https://colab.research.google.com/github/elangbijak4/NLP-AI-Algorithm/blob/main/Demo_Algoritma_Norvig.ipynb\" target=\"_parent\"><img src=\"https://colab.research.google.com/assets/colab-badge.svg\" alt=\"Open In Colab\"/></a>"
      ]
    },
    {
      "cell_type": "code",
      "source": [
        "# Import library yang diperlukan\n",
        "import re\n",
        "from collections import Counter"
      ],
      "metadata": {
        "id": "fbyfY_xLDY6q"
      },
      "execution_count": 1,
      "outputs": []
    },
    {
      "cell_type": "code",
      "execution_count": 2,
      "metadata": {
        "colab": {
          "base_uri": "https://localhost:8080/"
        },
        "id": "EiG5nw_ZDTdz",
        "outputId": "b803838d-9b32-407e-c828-d2b17355583f"
      },
      "outputs": [
        {
          "output_type": "stream",
          "name": "stdout",
          "text": [
            "anak\n",
            "api\n",
            "buku\n",
            "cantik\n"
          ]
        }
      ],
      "source": [
        "# Fungsi untuk membaca korpus kata dari string teks bahasa Indonesia\n",
        "def words(text):\n",
        "    return re.findall(r'\\w+', text.lower())\n",
        "\n",
        "# Fungsi untuk membuat model probabilitas dari korpus kata\n",
        "def train(words):\n",
        "    model = Counter(words)\n",
        "    return model\n",
        "\n",
        "# Korpus kata sederhana dalam bahasa Indonesia\n",
        "# Anda dapat menggantinya dengan dataset yang lebih besar\n",
        "korpus = \"\"\"\n",
        "anak api buku bawa cantik dan dari dia dengan gajah gunung hutan ibu ingin itu jalan\n",
        "jauh karena kerja kembali laut makan minum naik panas rumah sangat suka sudah tidak\n",
        "\"\"\"\n",
        "\n",
        "# Membuat model probabilitas dari korpus kata\n",
        "NWORDS = train(words(korpus))\n",
        "\n",
        "# Karakter alfabet untuk bahasa Indonesia\n",
        "alphabet = 'abcdefghijklmnopqrstuvwxyz'\n",
        "\n",
        "# Fungsi untuk menghasilkan semua kemungkinan kata yang dihasilkan dari satu operasi pengeditan\n",
        "def edits1(word):\n",
        "    splits = [(word[:i], word[i:]) for i in range(len(word) + 1)]\n",
        "    deletes = [L + R[1:] for L, R in splits if R]\n",
        "    transposes = [L + R[1] + R[0] + R[2:] for L, R in splits if len(R) > 1]\n",
        "    replaces = [L + c + R[1:] for L, R in splits if R for c in alphabet]\n",
        "    inserts = [L + c + R for L, R in splits for c in alphabet]\n",
        "    return set(deletes + transposes + replaces + inserts)\n",
        "\n",
        "# Fungsi untuk menghasilkan semua kemungkinan kata yang dihasilkan dari dua operasi pengeditan\n",
        "def known_edits2(word):\n",
        "    return set(e2 for e1 in edits1(word) for e2 in edits1(e1) if e2 in NWORDS)\n",
        "\n",
        "# Fungsi untuk memilih kata yang valid dari korpus kata\n",
        "def known(words):\n",
        "    return set(w for w in words if w in NWORDS)\n",
        "\n",
        "# Fungsi untuk mengoreksi kata yang salah eja\n",
        "def correct(word):\n",
        "    candidates = (known([word]) or known(edits1(word)) or known_edits2(word) or [word])\n",
        "    return max(candidates, key=NWORDS.get)\n",
        "\n",
        "# Contoh penggunaan\n",
        "print(correct(\"anak\"))\n",
        "print(correct(\"ape\"))\n",
        "print(correct(\"bukuu\"))\n",
        "print(correct(\"cantk\"))"
      ]
    }
  ]
}