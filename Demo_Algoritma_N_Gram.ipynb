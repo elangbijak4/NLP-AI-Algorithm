{
  "nbformat": 4,
  "nbformat_minor": 0,
  "metadata": {
    "colab": {
      "provenance": [],
      "authorship_tag": "ABX9TyOcJc7iyQlUc9reBOdMD0cG",
      "include_colab_link": true
    },
    "kernelspec": {
      "name": "python3",
      "display_name": "Python 3"
    },
    "language_info": {
      "name": "python"
    }
  },
  "cells": [
    {
      "cell_type": "markdown",
      "metadata": {
        "id": "view-in-github",
        "colab_type": "text"
      },
      "source": [
        "<a href=\"https://colab.research.google.com/github/elangbijak4/NLP-AI-Algorithm/blob/main/Demo_Algoritma_N_Gram.ipynb\" target=\"_parent\"><img src=\"https://colab.research.google.com/assets/colab-badge.svg\" alt=\"Open In Colab\"/></a>"
      ]
    },
    {
      "cell_type": "code",
      "source": [
        "from collections import defaultdict, Counter"
      ],
      "metadata": {
        "id": "0UH5tXL6ENWR"
      },
      "execution_count": 3,
      "outputs": []
    },
    {
      "cell_type": "code",
      "source": [
        "# Contoh korpus sederhana dalam bahasa Indonesia\n",
        "korpus = \"\"\"\n",
        "anak api buku bawa cantik dan dari dia dengan gajah gunung hutan ibu ingin itu jalan\n",
        "jauh karena kerja kembali laut makan minum naik panas rumah sangat suka sudah tidak\n",
        "\"\"\"\n",
        "\n",
        "# Fungsi untuk membangun model bigram dari korpus\n",
        "def build_bigram_model(corpus):\n",
        "    words = corpus.split()\n",
        "    bigrams = [(words[i], words[i+1]) for i in range(len(words)-1)]\n",
        "    model = defaultdict(Counter)\n",
        "    for w1, w2 in bigrams:\n",
        "        model[w1][w2] += 1\n",
        "    return model\n",
        "\n",
        "# Membangun model bigram\n",
        "bigram_model = build_bigram_model(korpus)\n",
        "\n",
        "# Fungsi untuk memperbaiki ejaan berdasarkan model bigram\n",
        "def correct_with_bigram(word, model):\n",
        "    if word in model:\n",
        "        return max(model[word], key=model[word].get)\n",
        "    else:\n",
        "        return word  # Jika kata tidak ditemukan, kembalikan kata asli\n",
        "\n",
        "# Contoh penggunaan\n",
        "print(correct_with_bigram(\"anak\", bigram_model))\n",
        "print(correct_with_bigram(\"ape\", bigram_model))\n",
        "print(correct_with_bigram(\"buku\", bigram_model))\n",
        "print(correct_with_bigram(\"cantik\", bigram_model))"
      ],
      "metadata": {
        "colab": {
          "base_uri": "https://localhost:8080/"
        },
        "id": "fbyfY_xLDY6q",
        "outputId": "1ba6e6c4-bf0c-4138-9268-7eb7f1d6ecfa"
      },
      "execution_count": 4,
      "outputs": [
        {
          "output_type": "stream",
          "name": "stdout",
          "text": [
            "api\n",
            "ape\n",
            "bawa\n",
            "dan\n"
          ]
        }
      ]
    }
  ]
}