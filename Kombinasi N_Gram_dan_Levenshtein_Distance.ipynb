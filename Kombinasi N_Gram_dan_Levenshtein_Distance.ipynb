{
  "nbformat": 4,
  "nbformat_minor": 0,
  "metadata": {
    "colab": {
      "provenance": [],
      "authorship_tag": "ABX9TyMCdyto0yLRfK3FrDyDqCiu",
      "include_colab_link": true
    },
    "kernelspec": {
      "name": "python3",
      "display_name": "Python 3"
    },
    "language_info": {
      "name": "python"
    }
  },
  "cells": [
    {
      "cell_type": "markdown",
      "metadata": {
        "id": "view-in-github",
        "colab_type": "text"
      },
      "source": [
        "<a href=\"https://colab.research.google.com/github/elangbijak4/NLP-AI-Algorithm/blob/main/Kombinasi%20N_Gram_dan_Levenshtein_Distance.ipynb\" target=\"_parent\"><img src=\"https://colab.research.google.com/assets/colab-badge.svg\" alt=\"Open In Colab\"/></a>"
      ]
    },
    {
      "cell_type": "code",
      "source": [
        "from collections import defaultdict, Counter"
      ],
      "metadata": {
        "id": "R6ZwvfHXHAhk"
      },
      "execution_count": 1,
      "outputs": []
    },
    {
      "cell_type": "code",
      "source": [
        "# Contoh korpus sederhana dalam bahasa Indonesia\n",
        "korpus = \"\"\"\n",
        "anak api buku bawa cantik dan dari dia dengan gajah gunung hutan ibu ingin itu jalan\n",
        "jauh karena kerja kembali laut makan minum naik panas rumah sangat suka sudah tidak\n",
        "\"\"\"\n",
        "\n",
        "# Fungsi untuk membangun model bigram dari korpus\n",
        "def build_bigram_model(corpus):\n",
        "    words = corpus.split()\n",
        "    bigrams = [(words[i], words[i+1]) for i in range(len(words)-1)]\n",
        "    model = defaultdict(Counter)\n",
        "    for w1, w2 in bigrams:\n",
        "        model[w1][w2] += 1\n",
        "    return model\n",
        "\n",
        "# Membangun model bigram\n",
        "bigram_model = build_bigram_model(korpus)\n",
        "\n",
        "# Fungsi untuk memperbaiki ejaan dengan menggunakan kombinasi N-Gram dan Levenshtein Distance\n",
        "def correct_with_ngram_and_levenshtein(word, model):\n",
        "    if word in model:\n",
        "        return max(model[word], key=model[word].get)\n",
        "    else:\n",
        "        # Jika kata tidak ditemukan dalam model N-Gram, cari kata yang paling mirip menggunakan Levenshtein Distance\n",
        "        candidates = model.keys()\n",
        "        closest_word = min(candidates, key=lambda x: levenshtein_distance(word, x))\n",
        "        return closest_word\n",
        "\n",
        "# Fungsi untuk menghitung Levenshtein Distance\n",
        "def levenshtein_distance(s1, s2):\n",
        "    m = len(s1)\n",
        "    n = len(s2)\n",
        "\n",
        "    # Inisialisasi matriks DP dengan ukuran (m+1) x (n+1)\n",
        "    dp = [[0] * (n + 1) for _ in range(m + 1)]\n",
        "\n",
        "    # Inisialisasi kolom pertama\n",
        "    for i in range(1, m + 1):\n",
        "        dp[i][0] = i\n",
        "\n",
        "    # Inisialisasi baris pertama\n",
        "    for j in range(1, n + 1):\n",
        "        dp[0][j] = j\n",
        "\n",
        "    # Mengisi matriks DP\n",
        "    for i in range(1, m + 1):\n",
        "        for j in range(1, n + 1):\n",
        "            if s1[i - 1] == s2[j - 1]:\n",
        "                dp[i][j] = dp[i - 1][j - 1]\n",
        "            else:\n",
        "                dp[i][j] = 1 + min(dp[i - 1][j],      # Hapus karakter dari s1\n",
        "                                  dp[i][j - 1],      # Sisipkan karakter ke s1\n",
        "                                  dp[i - 1][j - 1])  # Ganti karakter di s1\n",
        "\n",
        "    return dp[m][n]\n",
        "\n",
        "# Contoh penggunaan\n",
        "word = \"bukuu\"\n",
        "correction = correct_with_ngram_and_levenshtein(word, bigram_model)\n",
        "print(f\"Kata asli: {word}\")\n",
        "print(f\"Koreksi: {correction}\")"
      ],
      "metadata": {
        "colab": {
          "base_uri": "https://localhost:8080/"
        },
        "id": "8fH_9-XMGCR3",
        "outputId": "9f52c029-a8ff-4b95-c3e5-3bf1042807e5"
      },
      "execution_count": 2,
      "outputs": [
        {
          "output_type": "stream",
          "name": "stdout",
          "text": [
            "Kata asli: bukuu\n",
            "Koreksi: buku\n"
          ]
        }
      ]
    }
  ]
}