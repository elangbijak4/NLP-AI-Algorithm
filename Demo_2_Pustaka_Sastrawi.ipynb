{
  "nbformat": 4,
  "nbformat_minor": 0,
  "metadata": {
    "colab": {
      "provenance": [],
      "authorship_tag": "ABX9TyNwBbpPoTBOEj9BqSLNnSAN",
      "include_colab_link": true
    },
    "kernelspec": {
      "name": "python3",
      "display_name": "Python 3"
    },
    "language_info": {
      "name": "python"
    }
  },
  "cells": [
    {
      "cell_type": "markdown",
      "metadata": {
        "id": "view-in-github",
        "colab_type": "text"
      },
      "source": [
        "<a href=\"https://colab.research.google.com/github/elangbijak4/NLP-AI-Algorithm/blob/main/Demo_2_Pustaka_Sastrawi.ipynb\" target=\"_parent\"><img src=\"https://colab.research.google.com/assets/colab-badge.svg\" alt=\"Open In Colab\"/></a>"
      ]
    },
    {
      "cell_type": "code",
      "source": [
        "!pip install Sastrawi"
      ],
      "metadata": {
        "colab": {
          "base_uri": "https://localhost:8080/"
        },
        "id": "W3PVLGwcJPWn",
        "outputId": "7f93d571-65c3-41c6-f2fa-eae103d643d6"
      },
      "execution_count": 6,
      "outputs": [
        {
          "output_type": "stream",
          "name": "stdout",
          "text": [
            "Requirement already satisfied: Sastrawi in /usr/local/lib/python3.10/dist-packages (1.0.1)\n"
          ]
        }
      ]
    },
    {
      "cell_type": "code",
      "source": [
        "import nltk\n",
        "from Sastrawi.Stemmer.StemmerFactory import StemmerFactory\n",
        "from Sastrawi.StopWordRemover.StopWordRemoverFactory import StopWordRemoverFactory"
      ],
      "metadata": {
        "id": "R6ZwvfHXHAhk"
      },
      "execution_count": 8,
      "outputs": []
    },
    {
      "cell_type": "code",
      "source": [
        "# Unduh paket tokenizer untuk NLTK\n",
        "nltk.download('punkt')\n",
        "\n",
        "# Contoh teks dalam bahasa Indonesia\n",
        "teks = \"\"\"\n",
        "Perekonomian Indonesia sedang dalam pertumbuhan yang membanggakan. Namun, pertumbuhan ekonomi juga\n",
        "menimbulkan dampak negatif terhadap lingkungan. Pemerintah harus segera mengambil tindakan untuk\n",
        "mengurangi dampak buruk ini.\n",
        "\"\"\"\n",
        "\n",
        "# Inisialisasi objek stopword remover dan stemmer dari Sastrawi\n",
        "stopword_factory = StopWordRemoverFactory()\n",
        "stopword_remover = stopword_factory.create_stop_word_remover()\n",
        "stemmer_factory = StemmerFactory()\n",
        "stemmer = stemmer_factory.create_stemmer()\n",
        "\n",
        "# Tokenisasi teks menjadi kata-kata menggunakan NLTK\n",
        "tokens = nltk.word_tokenize(teks)\n",
        "\n",
        "# Hapus stopword dari tokens\n",
        "tokens_without_stopwords = [word for word in tokens if not stopword_remover.remove(word)]\n",
        "\n",
        "# Normalisasi kata-kata (mengubah huruf kapital menjadi huruf kecil)\n",
        "normalized_tokens = [word.lower() for word in tokens_without_stopwords]\n",
        "\n",
        "# Stemming kata-kata\n",
        "stemmed_tokens = [stemmer.stem(word) for word in normalized_tokens]\n",
        "\n",
        "# Gabungkan kata-kata yang telah di-stemming menjadi teks hasil\n",
        "hasil_akhir = ' '.join(stemmed_tokens)\n",
        "\n",
        "# Tampilkan hasil akhir\n",
        "print(\"Teks Asli:\")\n",
        "print(teks)\n",
        "print(\"\\nHasil Pemrosesan:\")\n",
        "print(hasil_akhir)"
      ],
      "metadata": {
        "colab": {
          "base_uri": "https://localhost:8080/"
        },
        "id": "8fH_9-XMGCR3",
        "outputId": "684101d8-9cdb-47d7-da0c-6be2b54d48b5"
      },
      "execution_count": 9,
      "outputs": [
        {
          "output_type": "stream",
          "name": "stderr",
          "text": [
            "[nltk_data] Downloading package punkt to /root/nltk_data...\n",
            "[nltk_data]   Unzipping tokenizers/punkt.zip.\n"
          ]
        },
        {
          "output_type": "stream",
          "name": "stdout",
          "text": [
            "Teks Asli:\n",
            "\n",
            "Perekonomian Indonesia sedang dalam pertumbuhan yang membanggakan. Namun, pertumbuhan ekonomi juga \n",
            "menimbulkan dampak negatif terhadap lingkungan. Pemerintah harus segera mengambil tindakan untuk \n",
            "mengurangi dampak buruk ini.\n",
            "\n",
            "\n",
            "Hasil Pemrosesan:\n",
            "dalam yang juga hadap harus untuk ini\n"
          ]
        }
      ]
    }
  ]
}