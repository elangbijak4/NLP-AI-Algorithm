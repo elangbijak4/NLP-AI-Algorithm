{
  "nbformat": 4,
  "nbformat_minor": 0,
  "metadata": {
    "colab": {
      "provenance": [],
      "authorship_tag": "ABX9TyNVrRT6cEO+4aADNA0D8ClK",
      "include_colab_link": true
    },
    "kernelspec": {
      "name": "python3",
      "display_name": "Python 3"
    },
    "language_info": {
      "name": "python"
    }
  },
  "cells": [
    {
      "cell_type": "markdown",
      "metadata": {
        "id": "view-in-github",
        "colab_type": "text"
      },
      "source": [
        "<a href=\"https://colab.research.google.com/github/elangbijak4/NLP-AI-Algorithm/blob/main/Demo_Pustaka_Sastrawi.ipynb\" target=\"_parent\"><img src=\"https://colab.research.google.com/assets/colab-badge.svg\" alt=\"Open In Colab\"/></a>"
      ]
    },
    {
      "cell_type": "code",
      "source": [
        "!pip install Sastrawi"
      ],
      "metadata": {
        "colab": {
          "base_uri": "https://localhost:8080/"
        },
        "id": "W3PVLGwcJPWn",
        "outputId": "a8d4bc9d-e590-4b57-8ef0-376348d5ec72"
      },
      "execution_count": 2,
      "outputs": [
        {
          "output_type": "stream",
          "name": "stdout",
          "text": [
            "Collecting Sastrawi\n",
            "  Downloading Sastrawi-1.0.1-py2.py3-none-any.whl (209 kB)\n",
            "\u001b[2K     \u001b[90m━━━━━━━━━━━━━━━━━━━━━━━━━━━━━━━━━━━━━━━━\u001b[0m \u001b[32m209.7/209.7 kB\u001b[0m \u001b[31m1.8 MB/s\u001b[0m eta \u001b[36m0:00:00\u001b[0m\n",
            "\u001b[?25hInstalling collected packages: Sastrawi\n",
            "Successfully installed Sastrawi-1.0.1\n"
          ]
        }
      ]
    },
    {
      "cell_type": "code",
      "source": [
        "from Sastrawi.Stemmer.StemmerFactory import StemmerFactory"
      ],
      "metadata": {
        "id": "R6ZwvfHXHAhk"
      },
      "execution_count": 3,
      "outputs": []
    },
    {
      "cell_type": "code",
      "source": [
        "# Inisialisasi stemmer dari Sastrawi\n",
        "factory = StemmerFactory()\n",
        "stemmer = factory.create_stemmer()\n",
        "\n",
        "# Contoh teks yang akan di-stemming\n",
        "teks = \"Perekonomian Indonesia sedang dalam pertumbuhan yang membanggakan\"\n",
        "\n",
        "# Melakukan stemming\n",
        "hasil_stemming = stemmer.stem(teks)\n",
        "\n",
        "# Menampilkan hasil stemming\n",
        "print(f\"Kalimat asli: {teks}\")\n",
        "print(f\"Hasil stemming: {hasil_stemming}\")"
      ],
      "metadata": {
        "colab": {
          "base_uri": "https://localhost:8080/"
        },
        "id": "8fH_9-XMGCR3",
        "outputId": "4d0bab78-679b-4c8d-d6b9-62d3963c00d6"
      },
      "execution_count": 4,
      "outputs": [
        {
          "output_type": "stream",
          "name": "stdout",
          "text": [
            "Kalimat asli: Perekonomian Indonesia sedang dalam pertumbuhan yang membanggakan\n",
            "Hasil stemming: ekonomi indonesia sedang dalam tumbuh yang bangga\n"
          ]
        }
      ]
    }
  ]
}